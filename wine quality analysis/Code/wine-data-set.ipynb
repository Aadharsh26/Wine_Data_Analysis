{
 "cells": [
  {
   "cell_type": "code",
   "execution_count": 1,
   "metadata": {
    "_cell_guid": "b1076dfc-b9ad-4769-8c92-a6c4dae69d19",
    "_uuid": "8f2839f25d086af736a60e9eeb907d3b93b6e0e5",
    "execution": {
     "iopub.execute_input": "2023-01-22T08:02:39.906269Z",
     "iopub.status.busy": "2023-01-22T08:02:39.905444Z",
     "iopub.status.idle": "2023-01-22T08:02:39.918811Z",
     "shell.execute_reply": "2023-01-22T08:02:39.917943Z",
     "shell.execute_reply.started": "2022-02-24T06:52:39.183754Z"
    },
    "papermill": {
     "duration": 0.066907,
     "end_time": "2023-01-22T08:02:39.919010",
     "exception": false,
     "start_time": "2023-01-22T08:02:39.852103",
     "status": "completed"
    },
    "tags": []
   },
   "outputs": [
    {
     "name": "stdout",
     "output_type": "stream",
     "text": [
      "/kaggle/input/red-wine-quality-cortez-et-al-2009/winequality-red.csv\n"
     ]
    }
   ],
   "source": [
    "# This Python 3 environment comes with many helpful analytics libraries installed\n",
    "# It is defined by the kaggle/python Docker image: https://github.com/kaggle/docker-python\n",
    "# For example, here's several helpful packages to load\n",
    "\n",
    "import numpy as np # linear algebra\n",
    "import pandas as pd # data processing, CSV file I/O (e.g. pd.read_csv)\n",
    "\n",
    "# Input data files are available in the read-only \"../input/\" directory\n",
    "# For example, running this (by clicking run or pressing Shift+Enter) will list all files under the input directory\n",
    "\n",
    "import os\n",
    "for dirname, _, filenames in os.walk('/kaggle/input'):\n",
    "    for filename in filenames:\n",
    "        print(os.path.join(dirname, filename))\n",
    "\n",
    "# You can write up to 5GB to the current directory (/kaggle/working/) that gets preserved as output when you create a version using \"Save & Run All\" \n",
    "# You can also write temporary files to /kaggle/temp/, but they won't be saved outside of the current session"
   ]
  },
  {
   "cell_type": "code",
   "execution_count": 2,
   "metadata": {
    "execution": {
     "iopub.execute_input": "2023-01-22T08:02:40.020855Z",
     "iopub.status.busy": "2023-01-22T08:02:40.019778Z",
     "iopub.status.idle": "2023-01-22T08:02:40.023622Z",
     "shell.execute_reply": "2023-01-22T08:02:40.024112Z",
     "shell.execute_reply.started": "2022-02-24T06:52:39.201202Z"
    },
    "papermill": {
     "duration": 0.058121,
     "end_time": "2023-01-22T08:02:40.024272",
     "exception": false,
     "start_time": "2023-01-22T08:02:39.966151",
     "status": "completed"
    },
    "tags": []
   },
   "outputs": [],
   "source": [
    "#Decision_Tree"
   ]
  },
  {
   "cell_type": "code",
   "execution_count": 3,
   "metadata": {
    "_cell_guid": "79c7e3d0-c299-4dcb-8224-4455121ee9b0",
    "_uuid": "d629ff2d2480ee46fbb7e2d37f6b5fab8052498a",
    "execution": {
     "iopub.execute_input": "2023-01-22T08:02:40.122715Z",
     "iopub.status.busy": "2023-01-22T08:02:40.121707Z",
     "iopub.status.idle": "2023-01-22T08:02:41.286138Z",
     "shell.execute_reply": "2023-01-22T08:02:41.284465Z",
     "shell.execute_reply.started": "2022-02-24T06:52:39.208706Z"
    },
    "papermill": {
     "duration": 1.215545,
     "end_time": "2023-01-22T08:02:41.286288",
     "exception": false,
     "start_time": "2023-01-22T08:02:40.070743",
     "status": "completed"
    },
    "tags": []
   },
   "outputs": [],
   "source": [
    "import pandas as  pd\n",
    "import numpy as np\n",
    "import matplotlib.pyplot as plt\n",
    "import seaborn as sns\n",
    "from sklearn import tree\n",
    "from sklearn import metrics\n",
    "from sklearn.model_selection import train_test_split"
   ]
  },
  {
   "cell_type": "code",
   "execution_count": 4,
   "metadata": {
    "execution": {
     "iopub.execute_input": "2023-01-22T08:02:41.388580Z",
     "iopub.status.busy": "2023-01-22T08:02:41.387799Z",
     "iopub.status.idle": "2023-01-22T08:02:41.411422Z",
     "shell.execute_reply": "2023-01-22T08:02:41.411938Z",
     "shell.execute_reply.started": "2022-02-24T06:52:40.453746Z"
    },
    "papermill": {
     "duration": 0.079024,
     "end_time": "2023-01-22T08:02:41.412114",
     "exception": false,
     "start_time": "2023-01-22T08:02:41.333090",
     "status": "completed"
    },
    "tags": []
   },
   "outputs": [],
   "source": [
    "data = pd.read_csv(\"../input/red-wine-quality-cortez-et-al-2009/winequality-red.csv\")\n"
   ]
  },
  {
   "cell_type": "code",
   "execution_count": 5,
   "metadata": {
    "execution": {
     "iopub.execute_input": "2023-01-22T08:02:41.510372Z",
     "iopub.status.busy": "2023-01-22T08:02:41.509344Z",
     "iopub.status.idle": "2023-01-22T08:02:41.522070Z",
     "shell.execute_reply": "2023-01-22T08:02:41.522604Z",
     "shell.execute_reply.started": "2022-02-24T06:52:40.479683Z"
    },
    "papermill": {
     "duration": 0.062681,
     "end_time": "2023-01-22T08:02:41.522780",
     "exception": false,
     "start_time": "2023-01-22T08:02:41.460099",
     "status": "completed"
    },
    "tags": []
   },
   "outputs": [],
   "source": [
    "quality_mapping ={\n",
    "    3:0,\n",
    "    4:1,\n",
    "    5:2,\n",
    "    6:3,\n",
    "    7:4,\n",
    "    8:5,\n",
    "}\n",
    "data.loc[:,\"quality\"]=data.quality.map(quality_mapping)\n"
   ]
  },
  {
   "cell_type": "code",
   "execution_count": 6,
   "metadata": {
    "execution": {
     "iopub.execute_input": "2023-01-22T08:02:41.627442Z",
     "iopub.status.busy": "2023-01-22T08:02:41.626351Z",
     "iopub.status.idle": "2023-01-22T08:02:41.630854Z",
     "shell.execute_reply": "2023-01-22T08:02:41.631359Z",
     "shell.execute_reply.started": "2022-02-24T06:52:40.497936Z"
    },
    "papermill": {
     "duration": 0.061877,
     "end_time": "2023-01-22T08:02:41.631524",
     "exception": false,
     "start_time": "2023-01-22T08:02:41.569647",
     "status": "completed"
    },
    "tags": []
   },
   "outputs": [],
   "source": [
    "x = data.iloc[:,:11].values\n",
    "y = data.loc[:,\"quality\"]\n",
    "x_train, x_test, y_train, y_test = train_test_split(x, y, test_size = 0.3, random_state = 0)"
   ]
  },
  {
   "cell_type": "code",
   "execution_count": 7,
   "metadata": {
    "execution": {
     "iopub.execute_input": "2023-01-22T08:02:41.728444Z",
     "iopub.status.busy": "2023-01-22T08:02:41.727364Z",
     "iopub.status.idle": "2023-01-22T08:02:41.736720Z",
     "shell.execute_reply": "2023-01-22T08:02:41.737224Z",
     "shell.execute_reply.started": "2022-02-24T06:52:40.511061Z"
    },
    "papermill": {
     "duration": 0.059077,
     "end_time": "2023-01-22T08:02:41.737392",
     "exception": false,
     "start_time": "2023-01-22T08:02:41.678315",
     "status": "completed"
    },
    "tags": []
   },
   "outputs": [
    {
     "data": {
      "text/plain": [
       "0       2\n",
       "1       2\n",
       "2       2\n",
       "3       3\n",
       "4       2\n",
       "       ..\n",
       "1594    2\n",
       "1595    3\n",
       "1596    3\n",
       "1597    2\n",
       "1598    3\n",
       "Name: quality, Length: 1599, dtype: int64"
      ]
     },
     "execution_count": 7,
     "metadata": {},
     "output_type": "execute_result"
    }
   ],
   "source": [
    "y"
   ]
  },
  {
   "cell_type": "code",
   "execution_count": 8,
   "metadata": {
    "execution": {
     "iopub.execute_input": "2023-01-22T08:02:41.837204Z",
     "iopub.status.busy": "2023-01-22T08:02:41.835966Z",
     "iopub.status.idle": "2023-01-22T08:02:41.841433Z",
     "shell.execute_reply": "2023-01-22T08:02:41.840363Z",
     "shell.execute_reply.started": "2022-02-24T06:52:40.523283Z"
    },
    "papermill": {
     "duration": 0.057722,
     "end_time": "2023-01-22T08:02:41.841671",
     "exception": false,
     "start_time": "2023-01-22T08:02:41.783949",
     "status": "completed"
    },
    "tags": []
   },
   "outputs": [
    {
     "data": {
      "text/plain": [
       "array([[ 7.4  ,  0.7  ,  0.   , ...,  3.51 ,  0.56 ,  9.4  ],\n",
       "       [ 7.8  ,  0.88 ,  0.   , ...,  3.2  ,  0.68 ,  9.8  ],\n",
       "       [ 7.8  ,  0.76 ,  0.04 , ...,  3.26 ,  0.65 ,  9.8  ],\n",
       "       ...,\n",
       "       [ 6.3  ,  0.51 ,  0.13 , ...,  3.42 ,  0.75 , 11.   ],\n",
       "       [ 5.9  ,  0.645,  0.12 , ...,  3.57 ,  0.71 , 10.2  ],\n",
       "       [ 6.   ,  0.31 ,  0.47 , ...,  3.39 ,  0.66 , 11.   ]])"
      ]
     },
     "execution_count": 8,
     "metadata": {},
     "output_type": "execute_result"
    }
   ],
   "source": [
    "x"
   ]
  },
  {
   "cell_type": "code",
   "execution_count": 9,
   "metadata": {
    "execution": {
     "iopub.execute_input": "2023-01-22T08:02:41.942552Z",
     "iopub.status.busy": "2023-01-22T08:02:41.941835Z",
     "iopub.status.idle": "2023-01-22T08:02:41.956238Z",
     "shell.execute_reply": "2023-01-22T08:02:41.956766Z",
     "shell.execute_reply.started": "2022-02-24T06:52:40.535331Z"
    },
    "papermill": {
     "duration": 0.064781,
     "end_time": "2023-01-22T08:02:41.956942",
     "exception": false,
     "start_time": "2023-01-22T08:02:41.892161",
     "status": "completed"
    },
    "tags": []
   },
   "outputs": [
    {
     "data": {
      "text/plain": [
       "DecisionTreeClassifier(max_depth=6)"
      ]
     },
     "execution_count": 9,
     "metadata": {},
     "output_type": "execute_result"
    }
   ],
   "source": [
    "classifier = tree.DecisionTreeClassifier(max_depth=6)\n",
    "classifier.fit(x_train, y_train)"
   ]
  },
  {
   "cell_type": "code",
   "execution_count": 10,
   "metadata": {
    "execution": {
     "iopub.execute_input": "2023-01-22T08:02:42.054940Z",
     "iopub.status.busy": "2023-01-22T08:02:42.054230Z",
     "iopub.status.idle": "2023-01-22T08:02:42.060323Z",
     "shell.execute_reply": "2023-01-22T08:02:42.060880Z",
     "shell.execute_reply.started": "2022-02-24T06:52:40.558776Z"
    },
    "papermill": {
     "duration": 0.056753,
     "end_time": "2023-01-22T08:02:42.061058",
     "exception": false,
     "start_time": "2023-01-22T08:02:42.004305",
     "status": "completed"
    },
    "tags": []
   },
   "outputs": [
    {
     "data": {
      "text/plain": [
       "array([2, 3, 2, ..., 2, 3, 2])"
      ]
     },
     "execution_count": 10,
     "metadata": {},
     "output_type": "execute_result"
    }
   ],
   "source": [
    "train_pred = classifier.predict(x_train)\n",
    "train_pred"
   ]
  },
  {
   "cell_type": "code",
   "execution_count": 11,
   "metadata": {
    "execution": {
     "iopub.execute_input": "2023-01-22T08:02:42.162684Z",
     "iopub.status.busy": "2023-01-22T08:02:42.161967Z",
     "iopub.status.idle": "2023-01-22T08:02:42.166323Z",
     "shell.execute_reply": "2023-01-22T08:02:42.165631Z",
     "shell.execute_reply.started": "2022-02-24T06:52:40.567754Z"
    },
    "papermill": {
     "duration": 0.056759,
     "end_time": "2023-01-22T08:02:42.166453",
     "exception": false,
     "start_time": "2023-01-22T08:02:42.109694",
     "status": "completed"
    },
    "tags": []
   },
   "outputs": [],
   "source": [
    "train_accuracy = metrics.accuracy_score(y_train, train_pred)\n"
   ]
  },
  {
   "cell_type": "code",
   "execution_count": 12,
   "metadata": {
    "execution": {
     "iopub.execute_input": "2023-01-22T08:02:42.267254Z",
     "iopub.status.busy": "2023-01-22T08:02:42.266584Z",
     "iopub.status.idle": "2023-01-22T08:02:42.269570Z",
     "shell.execute_reply": "2023-01-22T08:02:42.270136Z",
     "shell.execute_reply.started": "2022-02-24T06:52:40.579551Z"
    },
    "papermill": {
     "duration": 0.056072,
     "end_time": "2023-01-22T08:02:42.270299",
     "exception": false,
     "start_time": "2023-01-22T08:02:42.214227",
     "status": "completed"
    },
    "tags": []
   },
   "outputs": [
    {
     "name": "stdout",
     "output_type": "stream",
     "text": [
      "0.677390527256479\n"
     ]
    }
   ],
   "source": [
    "print(train_accuracy)"
   ]
  },
  {
   "cell_type": "code",
   "execution_count": 13,
   "metadata": {
    "execution": {
     "iopub.execute_input": "2023-01-22T08:02:42.373316Z",
     "iopub.status.busy": "2023-01-22T08:02:42.372604Z",
     "iopub.status.idle": "2023-01-22T08:02:42.381247Z",
     "shell.execute_reply": "2023-01-22T08:02:42.380515Z",
     "shell.execute_reply.started": "2022-02-24T06:52:40.590847Z"
    },
    "papermill": {
     "duration": 0.063423,
     "end_time": "2023-01-22T08:02:42.381380",
     "exception": false,
     "start_time": "2023-01-22T08:02:42.317957",
     "status": "completed"
    },
    "tags": []
   },
   "outputs": [
    {
     "data": {
      "text/plain": [
       "DecisionTreeClassifier(max_depth=6)"
      ]
     },
     "execution_count": 13,
     "metadata": {},
     "output_type": "execute_result"
    }
   ],
   "source": [
    "classifier = tree.DecisionTreeClassifier(max_depth=6)\n",
    "classifier.fit(x_test, y_test)"
   ]
  },
  {
   "cell_type": "code",
   "execution_count": 14,
   "metadata": {
    "execution": {
     "iopub.execute_input": "2023-01-22T08:02:42.482865Z",
     "iopub.status.busy": "2023-01-22T08:02:42.482220Z",
     "iopub.status.idle": "2023-01-22T08:02:42.485076Z",
     "shell.execute_reply": "2023-01-22T08:02:42.484449Z",
     "shell.execute_reply.started": "2022-02-24T06:52:40.605339Z"
    },
    "papermill": {
     "duration": 0.055506,
     "end_time": "2023-01-22T08:02:42.485202",
     "exception": false,
     "start_time": "2023-01-22T08:02:42.429696",
     "status": "completed"
    },
    "tags": []
   },
   "outputs": [],
   "source": [
    "test_pred = classifier.predict(x_test)"
   ]
  },
  {
   "cell_type": "raw",
   "metadata": {
    "papermill": {
     "duration": 0.048,
     "end_time": "2023-01-22T08:02:42.581151",
     "exception": false,
     "start_time": "2023-01-22T08:02:42.533151",
     "status": "completed"
    },
    "tags": []
   },
   "source": [
    "test_pred"
   ]
  },
  {
   "cell_type": "code",
   "execution_count": 15,
   "metadata": {
    "execution": {
     "iopub.execute_input": "2023-01-22T08:02:42.683228Z",
     "iopub.status.busy": "2023-01-22T08:02:42.682449Z",
     "iopub.status.idle": "2023-01-22T08:02:42.687387Z",
     "shell.execute_reply": "2023-01-22T08:02:42.687984Z",
     "shell.execute_reply.started": "2022-02-24T06:52:40.612295Z"
    },
    "papermill": {
     "duration": 0.057806,
     "end_time": "2023-01-22T08:02:42.688151",
     "exception": false,
     "start_time": "2023-01-22T08:02:42.630345",
     "status": "completed"
    },
    "tags": []
   },
   "outputs": [],
   "source": [
    "test_accuracy = metrics.accuracy_score(y_test, test_pred)"
   ]
  },
  {
   "cell_type": "code",
   "execution_count": 16,
   "metadata": {
    "execution": {
     "iopub.execute_input": "2023-01-22T08:02:42.787806Z",
     "iopub.status.busy": "2023-01-22T08:02:42.787118Z",
     "iopub.status.idle": "2023-01-22T08:02:42.793394Z",
     "shell.execute_reply": "2023-01-22T08:02:42.793938Z",
     "shell.execute_reply.started": "2022-02-24T06:52:40.623242Z"
    },
    "papermill": {
     "duration": 0.057784,
     "end_time": "2023-01-22T08:02:42.794114",
     "exception": false,
     "start_time": "2023-01-22T08:02:42.736330",
     "status": "completed"
    },
    "tags": []
   },
   "outputs": [
    {
     "name": "stdout",
     "output_type": "stream",
     "text": [
      "0.8104166666666667\n"
     ]
    }
   ],
   "source": [
    "print(test_accuracy)"
   ]
  },
  {
   "cell_type": "code",
   "execution_count": 17,
   "metadata": {
    "execution": {
     "iopub.execute_input": "2023-01-22T08:02:42.896201Z",
     "iopub.status.busy": "2023-01-22T08:02:42.895464Z",
     "iopub.status.idle": "2023-01-22T08:02:42.899081Z",
     "shell.execute_reply": "2023-01-22T08:02:42.898556Z",
     "shell.execute_reply.started": "2022-02-24T06:52:40.635962Z"
    },
    "papermill": {
     "duration": 0.056013,
     "end_time": "2023-01-22T08:02:42.899208",
     "exception": false,
     "start_time": "2023-01-22T08:02:42.843195",
     "status": "completed"
    },
    "tags": []
   },
   "outputs": [],
   "source": [
    "# random_forest\n"
   ]
  },
  {
   "cell_type": "code",
   "execution_count": 18,
   "metadata": {
    "execution": {
     "iopub.execute_input": "2023-01-22T08:02:43.002514Z",
     "iopub.status.busy": "2023-01-22T08:02:43.001730Z",
     "iopub.status.idle": "2023-01-22T08:02:43.004195Z",
     "shell.execute_reply": "2023-01-22T08:02:43.004835Z",
     "shell.execute_reply.started": "2022-02-24T06:52:40.643521Z"
    },
    "papermill": {
     "duration": 0.056639,
     "end_time": "2023-01-22T08:02:43.005014",
     "exception": false,
     "start_time": "2023-01-22T08:02:42.948375",
     "status": "completed"
    },
    "tags": []
   },
   "outputs": [],
   "source": [
    "import numpy as np\n",
    "import pandas as pd\n",
    "import matplotlib.pyplot as plt\n",
    "from sklearn import metrics"
   ]
  },
  {
   "cell_type": "code",
   "execution_count": 19,
   "metadata": {
    "execution": {
     "iopub.execute_input": "2023-01-22T08:02:43.105411Z",
     "iopub.status.busy": "2023-01-22T08:02:43.104722Z",
     "iopub.status.idle": "2023-01-22T08:02:43.117777Z",
     "shell.execute_reply": "2023-01-22T08:02:43.118365Z",
     "shell.execute_reply.started": "2022-02-24T06:52:40.660015Z"
    },
    "papermill": {
     "duration": 0.064917,
     "end_time": "2023-01-22T08:02:43.118526",
     "exception": false,
     "start_time": "2023-01-22T08:02:43.053609",
     "status": "completed"
    },
    "tags": []
   },
   "outputs": [],
   "source": [
    "saraku = pd.read_csv(\"../input/red-wine-quality-cortez-et-al-2009/winequality-red.csv\")"
   ]
  },
  {
   "cell_type": "code",
   "execution_count": 20,
   "metadata": {
    "execution": {
     "iopub.execute_input": "2023-01-22T08:02:43.233164Z",
     "iopub.status.busy": "2023-01-22T08:02:43.232216Z",
     "iopub.status.idle": "2023-01-22T08:02:43.239109Z",
     "shell.execute_reply": "2023-01-22T08:02:43.239750Z",
     "shell.execute_reply.started": "2022-02-24T06:52:40.677445Z"
    },
    "papermill": {
     "duration": 0.072428,
     "end_time": "2023-01-22T08:02:43.239956",
     "exception": false,
     "start_time": "2023-01-22T08:02:43.167528",
     "status": "completed"
    },
    "tags": []
   },
   "outputs": [],
   "source": [
    "quality_mapping ={\n",
    "    3:0,\n",
    "    4:1,\n",
    "    5:2,\n",
    "    6:3,\n",
    "    7:4,\n",
    "    8:5,\n",
    "}\n",
    "saraku.loc[:,\"quality\"]=saraku.quality.map(quality_mapping)\n"
   ]
  },
  {
   "cell_type": "code",
   "execution_count": 21,
   "metadata": {
    "execution": {
     "iopub.execute_input": "2023-01-22T08:02:43.355746Z",
     "iopub.status.busy": "2023-01-22T08:02:43.354683Z",
     "iopub.status.idle": "2023-01-22T08:02:43.360444Z",
     "shell.execute_reply": "2023-01-22T08:02:43.360949Z",
     "shell.execute_reply.started": "2022-02-24T06:52:40.686937Z"
    },
    "papermill": {
     "duration": 0.059141,
     "end_time": "2023-01-22T08:02:43.361123",
     "exception": false,
     "start_time": "2023-01-22T08:02:43.301982",
     "status": "completed"
    },
    "tags": []
   },
   "outputs": [],
   "source": [
    "x = saraku.iloc[:,:11].values\n",
    "y = saraku.loc[:,\"quality\"]"
   ]
  },
  {
   "cell_type": "code",
   "execution_count": 22,
   "metadata": {
    "execution": {
     "iopub.execute_input": "2023-01-22T08:02:43.462749Z",
     "iopub.status.busy": "2023-01-22T08:02:43.461692Z",
     "iopub.status.idle": "2023-01-22T08:02:43.468179Z",
     "shell.execute_reply": "2023-01-22T08:02:43.468741Z",
     "shell.execute_reply.started": "2022-02-24T06:52:40.697375Z"
    },
    "papermill": {
     "duration": 0.059115,
     "end_time": "2023-01-22T08:02:43.468897",
     "exception": false,
     "start_time": "2023-01-22T08:02:43.409782",
     "status": "completed"
    },
    "tags": []
   },
   "outputs": [],
   "source": [
    "from sklearn.model_selection import train_test_split\n",
    "x_train, x_test, y_train, y_test = train_test_split(x, y, test_size = 0.4, random_state = 0)"
   ]
  },
  {
   "cell_type": "code",
   "execution_count": 23,
   "metadata": {
    "execution": {
     "iopub.execute_input": "2023-01-22T08:02:43.569550Z",
     "iopub.status.busy": "2023-01-22T08:02:43.568503Z",
     "iopub.status.idle": "2023-01-22T08:02:43.599364Z",
     "shell.execute_reply": "2023-01-22T08:02:43.598753Z",
     "shell.execute_reply.started": "2022-02-24T06:52:40.710092Z"
    },
    "papermill": {
     "duration": 0.082483,
     "end_time": "2023-01-22T08:02:43.599502",
     "exception": false,
     "start_time": "2023-01-22T08:02:43.517019",
     "status": "completed"
    },
    "tags": []
   },
   "outputs": [],
   "source": [
    "from sklearn.ensemble import RandomForestClassifier"
   ]
  },
  {
   "cell_type": "code",
   "execution_count": 24,
   "metadata": {
    "execution": {
     "iopub.execute_input": "2023-01-22T08:02:43.703263Z",
     "iopub.status.busy": "2023-01-22T08:02:43.702142Z",
     "iopub.status.idle": "2023-01-22T08:02:43.952682Z",
     "shell.execute_reply": "2023-01-22T08:02:43.953289Z",
     "shell.execute_reply.started": "2022-02-24T06:52:40.743710Z"
    },
    "papermill": {
     "duration": 0.304979,
     "end_time": "2023-01-22T08:02:43.953446",
     "exception": false,
     "start_time": "2023-01-22T08:02:43.648467",
     "status": "completed"
    },
    "tags": []
   },
   "outputs": [
    {
     "data": {
      "text/plain": [
       "RandomForestClassifier(max_depth=6)"
      ]
     },
     "execution_count": 24,
     "metadata": {},
     "output_type": "execute_result"
    }
   ],
   "source": [
    "classifier = RandomForestClassifier(max_depth=6, n_estimators=100)\n",
    "classifier.fit(x_train, y_train)"
   ]
  },
  {
   "cell_type": "code",
   "execution_count": 25,
   "metadata": {
    "execution": {
     "iopub.execute_input": "2023-01-22T08:02:44.054367Z",
     "iopub.status.busy": "2023-01-22T08:02:44.053342Z",
     "iopub.status.idle": "2023-01-22T08:02:44.079092Z",
     "shell.execute_reply": "2023-01-22T08:02:44.079671Z",
     "shell.execute_reply.started": "2022-02-24T06:52:41.031501Z"
    },
    "papermill": {
     "duration": 0.077832,
     "end_time": "2023-01-22T08:02:44.079835",
     "exception": false,
     "start_time": "2023-01-22T08:02:44.002003",
     "status": "completed"
    },
    "tags": []
   },
   "outputs": [],
   "source": [
    "train_pred = classifier.predict(x_train)"
   ]
  },
  {
   "cell_type": "code",
   "execution_count": 26,
   "metadata": {
    "execution": {
     "iopub.execute_input": "2023-01-22T08:02:44.181879Z",
     "iopub.status.busy": "2023-01-22T08:02:44.180804Z",
     "iopub.status.idle": "2023-01-22T08:02:44.186091Z",
     "shell.execute_reply": "2023-01-22T08:02:44.186679Z",
     "shell.execute_reply.started": "2022-02-24T06:52:41.061653Z"
    },
    "papermill": {
     "duration": 0.058087,
     "end_time": "2023-01-22T08:02:44.186853",
     "exception": false,
     "start_time": "2023-01-22T08:02:44.128766",
     "status": "completed"
    },
    "tags": []
   },
   "outputs": [],
   "source": [
    "train_accuracy = metrics.accuracy_score(y_train, train_pred)"
   ]
  },
  {
   "cell_type": "code",
   "execution_count": 27,
   "metadata": {
    "execution": {
     "iopub.execute_input": "2023-01-22T08:02:44.291495Z",
     "iopub.status.busy": "2023-01-22T08:02:44.290486Z",
     "iopub.status.idle": "2023-01-22T08:02:44.296572Z",
     "shell.execute_reply": "2023-01-22T08:02:44.297256Z",
     "shell.execute_reply.started": "2022-02-24T06:52:41.069011Z"
    },
    "papermill": {
     "duration": 0.059195,
     "end_time": "2023-01-22T08:02:44.297417",
     "exception": false,
     "start_time": "2023-01-22T08:02:44.238222",
     "status": "completed"
    },
    "tags": []
   },
   "outputs": [
    {
     "name": "stdout",
     "output_type": "stream",
     "text": [
      "0.7883211678832117\n"
     ]
    }
   ],
   "source": [
    "print (train_accuracy)"
   ]
  },
  {
   "cell_type": "code",
   "execution_count": 28,
   "metadata": {
    "execution": {
     "iopub.execute_input": "2023-01-22T08:02:44.407639Z",
     "iopub.status.busy": "2023-01-22T08:02:44.402322Z",
     "iopub.status.idle": "2023-01-22T08:02:44.638954Z",
     "shell.execute_reply": "2023-01-22T08:02:44.638266Z",
     "shell.execute_reply.started": "2022-02-24T06:52:41.081952Z"
    },
    "papermill": {
     "duration": 0.292307,
     "end_time": "2023-01-22T08:02:44.639082",
     "exception": false,
     "start_time": "2023-01-22T08:02:44.346775",
     "status": "completed"
    },
    "tags": []
   },
   "outputs": [
    {
     "name": "stdout",
     "output_type": "stream",
     "text": [
      "0.7883211678832117\n"
     ]
    }
   ],
   "source": [
    "classifier = RandomForestClassifier(max_depth=6)\n",
    "classifier.fit(x_test, y_test)\n",
    "test_pred = classifier.predict(x_test)\n",
    "test_pred\n",
    "print(train_accuracy)"
   ]
  },
  {
   "cell_type": "code",
   "execution_count": 29,
   "metadata": {
    "execution": {
     "iopub.execute_input": "2023-01-22T08:02:44.743390Z",
     "iopub.status.busy": "2023-01-22T08:02:44.742607Z",
     "iopub.status.idle": "2023-01-22T08:02:44.745668Z",
     "shell.execute_reply": "2023-01-22T08:02:44.746243Z",
     "shell.execute_reply.started": "2022-02-24T06:52:41.361455Z"
    },
    "papermill": {
     "duration": 0.057351,
     "end_time": "2023-01-22T08:02:44.746408",
     "exception": false,
     "start_time": "2023-01-22T08:02:44.689057",
     "status": "completed"
    },
    "tags": []
   },
   "outputs": [],
   "source": [
    "#Navie_Base"
   ]
  },
  {
   "cell_type": "code",
   "execution_count": 30,
   "metadata": {
    "execution": {
     "iopub.execute_input": "2023-01-22T08:02:44.848628Z",
     "iopub.status.busy": "2023-01-22T08:02:44.847973Z",
     "iopub.status.idle": "2023-01-22T08:02:44.852293Z",
     "shell.execute_reply": "2023-01-22T08:02:44.852840Z",
     "shell.execute_reply.started": "2022-02-24T06:52:41.368336Z"
    },
    "papermill": {
     "duration": 0.057164,
     "end_time": "2023-01-22T08:02:44.853021",
     "exception": false,
     "start_time": "2023-01-22T08:02:44.795857",
     "status": "completed"
    },
    "tags": []
   },
   "outputs": [],
   "source": [
    "import pandas as pd\n",
    "import numpy as np\n",
    "import matplotlib.pyplot as plt\n",
    "import seaborn as sns\n",
    "from sklearn import metrics"
   ]
  },
  {
   "cell_type": "code",
   "execution_count": 31,
   "metadata": {
    "execution": {
     "iopub.execute_input": "2023-01-22T08:02:44.955252Z",
     "iopub.status.busy": "2023-01-22T08:02:44.954551Z",
     "iopub.status.idle": "2023-01-22T08:02:44.969036Z",
     "shell.execute_reply": "2023-01-22T08:02:44.969592Z",
     "shell.execute_reply.started": "2022-02-24T06:52:41.379351Z"
    },
    "papermill": {
     "duration": 0.067147,
     "end_time": "2023-01-22T08:02:44.969754",
     "exception": false,
     "start_time": "2023-01-22T08:02:44.902607",
     "status": "completed"
    },
    "tags": []
   },
   "outputs": [],
   "source": [
    "NB_data = pd.read_csv(\"../input/red-wine-quality-cortez-et-al-2009/winequality-red.csv\")\n",
    "quality_mapping ={\n",
    "    3:0,\n",
    "    4:1,\n",
    "    5:2,\n",
    "    6:3,\n",
    "    7:4,\n",
    "    8:5,\n",
    "}\n",
    "NB_data.loc[:,\"quality\"]=NB_data.quality.map(quality_mapping)\n"
   ]
  },
  {
   "cell_type": "code",
   "execution_count": 32,
   "metadata": {
    "execution": {
     "iopub.execute_input": "2023-01-22T08:02:45.072063Z",
     "iopub.status.busy": "2023-01-22T08:02:45.071053Z",
     "iopub.status.idle": "2023-01-22T08:02:45.076399Z",
     "shell.execute_reply": "2023-01-22T08:02:45.076878Z",
     "shell.execute_reply.started": "2022-02-24T06:52:41.400093Z"
    },
    "papermill": {
     "duration": 0.05813,
     "end_time": "2023-01-22T08:02:45.077065",
     "exception": false,
     "start_time": "2023-01-22T08:02:45.018935",
     "status": "completed"
    },
    "tags": []
   },
   "outputs": [],
   "source": [
    "x = NB_data.iloc[:,:11].values\n",
    "y = NB_data.loc[:,\"quality\"]"
   ]
  },
  {
   "cell_type": "code",
   "execution_count": 33,
   "metadata": {
    "execution": {
     "iopub.execute_input": "2023-01-22T08:02:45.178993Z",
     "iopub.status.busy": "2023-01-22T08:02:45.177973Z",
     "iopub.status.idle": "2023-01-22T08:02:45.184145Z",
     "shell.execute_reply": "2023-01-22T08:02:45.184629Z",
     "shell.execute_reply.started": "2022-02-24T06:52:41.406453Z"
    },
    "papermill": {
     "duration": 0.058733,
     "end_time": "2023-01-22T08:02:45.184793",
     "exception": false,
     "start_time": "2023-01-22T08:02:45.126060",
     "status": "completed"
    },
    "tags": []
   },
   "outputs": [],
   "source": [
    "from sklearn.model_selection import train_test_split\n",
    "x_train,x_test,y_train,y_test=train_test_split(x,y,test_size=0.2, random_state =0)"
   ]
  },
  {
   "cell_type": "code",
   "execution_count": 34,
   "metadata": {
    "execution": {
     "iopub.execute_input": "2023-01-22T08:02:45.309119Z",
     "iopub.status.busy": "2023-01-22T08:02:45.308383Z",
     "iopub.status.idle": "2023-01-22T08:02:45.321554Z",
     "shell.execute_reply": "2023-01-22T08:02:45.322419Z",
     "shell.execute_reply.started": "2022-02-24T06:52:41.420808Z"
    },
    "papermill": {
     "duration": 0.081806,
     "end_time": "2023-01-22T08:02:45.322631",
     "exception": false,
     "start_time": "2023-01-22T08:02:45.240825",
     "status": "completed"
    },
    "tags": []
   },
   "outputs": [],
   "source": [
    "from sklearn.naive_bayes import GaussianNB\n",
    "classifier = GaussianNB()\n",
    "classifier.fit(x_train, y_train)\n",
    "train_pred = classifier.predict(x_train)"
   ]
  },
  {
   "cell_type": "code",
   "execution_count": 35,
   "metadata": {
    "execution": {
     "iopub.execute_input": "2023-01-22T08:02:45.432259Z",
     "iopub.status.busy": "2023-01-22T08:02:45.431516Z",
     "iopub.status.idle": "2023-01-22T08:02:45.435615Z",
     "shell.execute_reply": "2023-01-22T08:02:45.436100Z",
     "shell.execute_reply.started": "2022-02-24T06:52:41.441073Z"
    },
    "papermill": {
     "duration": 0.059491,
     "end_time": "2023-01-22T08:02:45.436266",
     "exception": false,
     "start_time": "2023-01-22T08:02:45.376775",
     "status": "completed"
    },
    "tags": []
   },
   "outputs": [],
   "source": [
    "train_accuracy = metrics.accuracy_score(y_train, train_pred)"
   ]
  },
  {
   "cell_type": "code",
   "execution_count": 36,
   "metadata": {
    "execution": {
     "iopub.execute_input": "2023-01-22T08:02:45.592776Z",
     "iopub.status.busy": "2023-01-22T08:02:45.592065Z",
     "iopub.status.idle": "2023-01-22T08:02:45.597689Z",
     "shell.execute_reply": "2023-01-22T08:02:45.597012Z",
     "shell.execute_reply.started": "2022-02-24T06:52:41.450948Z"
    },
    "papermill": {
     "duration": 0.059199,
     "end_time": "2023-01-22T08:02:45.597814",
     "exception": false,
     "start_time": "2023-01-22T08:02:45.538615",
     "status": "completed"
    },
    "tags": []
   },
   "outputs": [
    {
     "name": "stdout",
     "output_type": "stream",
     "text": [
      "0.547302580140735\n"
     ]
    }
   ],
   "source": [
    "print (train_accuracy)"
   ]
  },
  {
   "cell_type": "code",
   "execution_count": 37,
   "metadata": {
    "execution": {
     "iopub.execute_input": "2023-01-22T08:02:45.706165Z",
     "iopub.status.busy": "2023-01-22T08:02:45.705014Z",
     "iopub.status.idle": "2023-01-22T08:02:45.710034Z",
     "shell.execute_reply": "2023-01-22T08:02:45.710511Z",
     "shell.execute_reply.started": "2022-02-24T06:52:41.459650Z"
    },
    "papermill": {
     "duration": 0.062413,
     "end_time": "2023-01-22T08:02:45.710673",
     "exception": false,
     "start_time": "2023-01-22T08:02:45.648260",
     "status": "completed"
    },
    "tags": []
   },
   "outputs": [],
   "source": [
    "classifier.fit(x_test, y_test)\n",
    "test_pred = classifier.predict(x_test)"
   ]
  },
  {
   "cell_type": "code",
   "execution_count": 38,
   "metadata": {
    "execution": {
     "iopub.execute_input": "2023-01-22T08:02:45.815352Z",
     "iopub.status.busy": "2023-01-22T08:02:45.814640Z",
     "iopub.status.idle": "2023-01-22T08:02:45.820492Z",
     "shell.execute_reply": "2023-01-22T08:02:45.819797Z",
     "shell.execute_reply.started": "2022-02-24T06:52:41.472926Z"
    },
    "papermill": {
     "duration": 0.059889,
     "end_time": "2023-01-22T08:02:45.820615",
     "exception": false,
     "start_time": "2023-01-22T08:02:45.760726",
     "status": "completed"
    },
    "tags": []
   },
   "outputs": [
    {
     "name": "stdout",
     "output_type": "stream",
     "text": [
      "0.8104166666666667\n"
     ]
    }
   ],
   "source": [
    "print(test_accuracy)"
   ]
  },
  {
   "cell_type": "code",
   "execution_count": 39,
   "metadata": {
    "execution": {
     "iopub.execute_input": "2023-01-22T08:02:45.924733Z",
     "iopub.status.busy": "2023-01-22T08:02:45.924076Z",
     "iopub.status.idle": "2023-01-22T08:02:45.929206Z",
     "shell.execute_reply": "2023-01-22T08:02:45.928535Z",
     "shell.execute_reply.started": "2022-02-24T06:52:41.484296Z"
    },
    "papermill": {
     "duration": 0.058597,
     "end_time": "2023-01-22T08:02:45.929335",
     "exception": false,
     "start_time": "2023-01-22T08:02:45.870738",
     "status": "completed"
    },
    "tags": []
   },
   "outputs": [],
   "source": [
    "#SVM\n"
   ]
  },
  {
   "cell_type": "code",
   "execution_count": 40,
   "metadata": {
    "execution": {
     "iopub.execute_input": "2023-01-22T08:02:46.034990Z",
     "iopub.status.busy": "2023-01-22T08:02:46.034318Z",
     "iopub.status.idle": "2023-01-22T08:02:46.037541Z",
     "shell.execute_reply": "2023-01-22T08:02:46.036980Z",
     "shell.execute_reply.started": "2022-02-24T06:52:41.494070Z"
    },
    "papermill": {
     "duration": 0.058324,
     "end_time": "2023-01-22T08:02:46.037659",
     "exception": false,
     "start_time": "2023-01-22T08:02:45.979335",
     "status": "completed"
    },
    "tags": []
   },
   "outputs": [],
   "source": [
    "import numpy as np\n",
    "import pandas as pd\n",
    "import matplotlib.pyplot as plt\n",
    "import seaborn as sns\n",
    "from sklearn.metrics import plot_confusion_matrix\n"
   ]
  },
  {
   "cell_type": "code",
   "execution_count": 41,
   "metadata": {
    "execution": {
     "iopub.execute_input": "2023-01-22T08:02:46.145006Z",
     "iopub.status.busy": "2023-01-22T08:02:46.144319Z",
     "iopub.status.idle": "2023-01-22T08:02:46.155852Z",
     "shell.execute_reply": "2023-01-22T08:02:46.155291Z",
     "shell.execute_reply.started": "2022-02-24T06:52:41.506495Z"
    },
    "papermill": {
     "duration": 0.068489,
     "end_time": "2023-01-22T08:02:46.156018",
     "exception": false,
     "start_time": "2023-01-22T08:02:46.087529",
     "status": "completed"
    },
    "tags": []
   },
   "outputs": [],
   "source": [
    "Svm_data = pd.read_csv(\"../input/red-wine-quality-cortez-et-al-2009/winequality-red.csv\")\n",
    "quality_mapping ={\n",
    "    3:0,\n",
    "    4:1,\n",
    "    5:2,\n",
    "    6:3,\n",
    "    7:4,\n",
    "    8:5,\n",
    "}\n",
    "Svm_data.loc[:,\"quality\"]=Svm_data.quality.map(quality_mapping)\n"
   ]
  },
  {
   "cell_type": "code",
   "execution_count": 42,
   "metadata": {
    "execution": {
     "iopub.execute_input": "2023-01-22T08:02:46.262100Z",
     "iopub.status.busy": "2023-01-22T08:02:46.261399Z",
     "iopub.status.idle": "2023-01-22T08:02:46.264574Z",
     "shell.execute_reply": "2023-01-22T08:02:46.263957Z",
     "shell.execute_reply.started": "2022-02-24T06:52:41.532374Z"
    },
    "papermill": {
     "duration": 0.058671,
     "end_time": "2023-01-22T08:02:46.264697",
     "exception": false,
     "start_time": "2023-01-22T08:02:46.206026",
     "status": "completed"
    },
    "tags": []
   },
   "outputs": [],
   "source": [
    "x = Svm_data.iloc[:,:11].values\n",
    "y = Svm_data.loc[:,\"quality\"]"
   ]
  },
  {
   "cell_type": "code",
   "execution_count": 43,
   "metadata": {
    "execution": {
     "iopub.execute_input": "2023-01-22T08:02:46.372129Z",
     "iopub.status.busy": "2023-01-22T08:02:46.368106Z",
     "iopub.status.idle": "2023-01-22T08:02:46.375274Z",
     "shell.execute_reply": "2023-01-22T08:02:46.374594Z",
     "shell.execute_reply.started": "2022-02-24T06:52:41.539472Z"
    },
    "papermill": {
     "duration": 0.060812,
     "end_time": "2023-01-22T08:02:46.375401",
     "exception": false,
     "start_time": "2023-01-22T08:02:46.314589",
     "status": "completed"
    },
    "tags": []
   },
   "outputs": [],
   "source": [
    "from sklearn.model_selection import train_test_split\n",
    "x_train,x_test,y_train,y_test=train_test_split(x,y,test_size=0.3, random_state =0)"
   ]
  },
  {
   "cell_type": "code",
   "execution_count": 44,
   "metadata": {
    "execution": {
     "iopub.execute_input": "2023-01-22T08:02:46.482429Z",
     "iopub.status.busy": "2023-01-22T08:02:46.481741Z",
     "iopub.status.idle": "2023-01-22T08:02:50.921798Z",
     "shell.execute_reply": "2023-01-22T08:02:50.921066Z",
     "shell.execute_reply.started": "2022-02-24T06:52:41.554265Z"
    },
    "papermill": {
     "duration": 4.496476,
     "end_time": "2023-01-22T08:02:50.921953",
     "exception": false,
     "start_time": "2023-01-22T08:02:46.425477",
     "status": "completed"
    },
    "tags": []
   },
   "outputs": [
    {
     "data": {
      "text/plain": [
       "SVC(kernel='linear')"
      ]
     },
     "execution_count": 44,
     "metadata": {},
     "output_type": "execute_result"
    }
   ],
   "source": [
    "from sklearn.svm import SVC\n",
    "svclassifier = SVC(kernel='linear')\n",
    "svclassifier.fit(x_train, y_train)\n"
   ]
  },
  {
   "cell_type": "code",
   "execution_count": 45,
   "metadata": {
    "execution": {
     "iopub.execute_input": "2023-01-22T08:02:51.027653Z",
     "iopub.status.busy": "2023-01-22T08:02:51.026744Z",
     "iopub.status.idle": "2023-01-22T08:02:51.051147Z",
     "shell.execute_reply": "2023-01-22T08:02:51.050528Z",
     "shell.execute_reply.started": "2022-02-24T06:52:45.829138Z"
    },
    "papermill": {
     "duration": 0.078986,
     "end_time": "2023-01-22T08:02:51.051279",
     "exception": false,
     "start_time": "2023-01-22T08:02:50.972293",
     "status": "completed"
    },
    "tags": []
   },
   "outputs": [],
   "source": [
    "train_pred = svclassifier.predict(x_train)"
   ]
  },
  {
   "cell_type": "code",
   "execution_count": 46,
   "metadata": {
    "execution": {
     "iopub.execute_input": "2023-01-22T08:02:51.157894Z",
     "iopub.status.busy": "2023-01-22T08:02:51.157179Z",
     "iopub.status.idle": "2023-01-22T08:02:51.162001Z",
     "shell.execute_reply": "2023-01-22T08:02:51.161407Z",
     "shell.execute_reply.started": "2022-02-24T06:52:45.855751Z"
    },
    "papermill": {
     "duration": 0.060722,
     "end_time": "2023-01-22T08:02:51.162126",
     "exception": false,
     "start_time": "2023-01-22T08:02:51.101404",
     "status": "completed"
    },
    "tags": []
   },
   "outputs": [
    {
     "name": "stdout",
     "output_type": "stream",
     "text": [
      "0.547302580140735\n"
     ]
    }
   ],
   "source": [
    "print(train_accuracy)"
   ]
  },
  {
   "cell_type": "code",
   "execution_count": 47,
   "metadata": {
    "execution": {
     "iopub.execute_input": "2023-01-22T08:02:51.269375Z",
     "iopub.status.busy": "2023-01-22T08:02:51.268642Z",
     "iopub.status.idle": "2023-01-22T08:02:51.273536Z",
     "shell.execute_reply": "2023-01-22T08:02:51.272560Z",
     "shell.execute_reply.started": "2022-02-24T06:52:45.862065Z"
    },
    "papermill": {
     "duration": 0.061192,
     "end_time": "2023-01-22T08:02:51.273664",
     "exception": false,
     "start_time": "2023-01-22T08:02:51.212472",
     "status": "completed"
    },
    "tags": []
   },
   "outputs": [
    {
     "name": "stdout",
     "output_type": "stream",
     "text": [
      "0.8104166666666667\n"
     ]
    }
   ],
   "source": [
    "test_pred = classifier.predict(x_test)\n",
    "print(test_accuracy)"
   ]
  },
  {
   "cell_type": "code",
   "execution_count": 48,
   "metadata": {
    "execution": {
     "iopub.execute_input": "2023-01-22T08:02:51.380366Z",
     "iopub.status.busy": "2023-01-22T08:02:51.379661Z",
     "iopub.status.idle": "2023-01-22T08:02:51.602160Z",
     "shell.execute_reply": "2023-01-22T08:02:51.601472Z",
     "shell.execute_reply.started": "2022-02-24T06:52:45.874753Z"
    },
    "papermill": {
     "duration": 0.27792,
     "end_time": "2023-01-22T08:02:51.602286",
     "exception": false,
     "start_time": "2023-01-22T08:02:51.324366",
     "status": "completed"
    },
    "tags": []
   },
   "outputs": [
    {
     "data": {
      "image/png": "[encoded data removed]",
      "text/plain": [
       "<Figure size 432x288 with 1 Axes>"
      ]
     },
     "metadata": {
      "needs_background": "light"
     },
     "output_type": "display_data"
    }
   ],
   "source": [
    "plt.scatter(x_train[:,0], x_train[:,1])\n",
    "plt.title(' SVM')\n",
    "plt.xlabel('X1')\n",
    "plt.ylabel('X2')\n",
    "plt.show()"
   ]
  },
  {
   "cell_type": "code",
   "execution_count": 49,
   "metadata": {
    "execution": {
     "iopub.execute_input": "2023-01-22T08:02:51.710969Z",
     "iopub.status.busy": "2023-01-22T08:02:51.710284Z",
     "iopub.status.idle": "2023-01-22T08:02:52.018494Z",
     "shell.execute_reply": "2023-01-22T08:02:52.017947Z",
     "shell.execute_reply.started": "2022-02-24T06:52:46.093052Z"
    },
    "papermill": {
     "duration": 0.364262,
     "end_time": "2023-01-22T08:02:52.018624",
     "exception": false,
     "start_time": "2023-01-22T08:02:51.654362",
     "status": "completed"
    },
    "tags": []
   },
   "outputs": [
    {
     "data": {
      "text/plain": [
       "<matplotlib.axes._subplots.AxesSubplot at 0x7f984fd54110>"
      ]
     },
     "execution_count": 49,
     "metadata": {},
     "output_type": "execute_result"
    },
    {
     "data": {
      "image/png": "[encoded data removed]",
      "text/plain": [
       "<Figure size 432x288 with 1 Axes>"
      ]
     },
     "metadata": {
      "needs_background": "light"
     },
     "output_type": "display_data"
    }
   ],
   "source": [
    "sns.barplot(x='quality', y='sulphates',data=Svm_data)"
   ]
  },
  {
   "cell_type": "code",
   "execution_count": 50,
   "metadata": {
    "execution": {
     "iopub.execute_input": "2023-01-22T08:02:52.128142Z",
     "iopub.status.busy": "2023-01-22T08:02:52.127462Z",
     "iopub.status.idle": "2023-01-22T08:02:52.496473Z",
     "shell.execute_reply": "2023-01-22T08:02:52.495862Z",
     "shell.execute_reply.started": "2022-02-24T06:52:46.454017Z"
    },
    "papermill": {
     "duration": 0.424937,
     "end_time": "2023-01-22T08:02:52.496599",
     "exception": false,
     "start_time": "2023-01-22T08:02:52.071662",
     "status": "completed"
    },
    "tags": []
   },
   "outputs": [
    {
     "data": {
      "text/plain": [
       "<matplotlib.axes._subplots.AxesSubplot at 0x7f984fc35690>"
      ]
     },
     "execution_count": 50,
     "metadata": {},
     "output_type": "execute_result"
    },
    {
     "data": {
      "image/png": "[encoded data removed]",
      "text/plain": [
       "<Figure size 432x288 with 1 Axes>"
      ]
     },
     "metadata": {
      "needs_background": "light"
     },
     "output_type": "display_data"
    }
   ],
   "source": [
    "sns.barplot(x = 'quality', y='volatile acidity', data = Svm_data)"
   ]
  },
  {
   "cell_type": "code",
   "execution_count": 51,
   "metadata": {
    "execution": {
     "iopub.execute_input": "2023-01-22T08:02:52.612512Z",
     "iopub.status.busy": "2023-01-22T08:02:52.611492Z",
     "iopub.status.idle": "2023-01-22T08:02:52.908127Z",
     "shell.execute_reply": "2023-01-22T08:02:52.907383Z",
     "shell.execute_reply.started": "2022-02-24T06:52:46.924356Z"
    },
    "papermill": {
     "duration": 0.356419,
     "end_time": "2023-01-22T08:02:52.908267",
     "exception": false,
     "start_time": "2023-01-22T08:02:52.551848",
     "status": "completed"
    },
    "tags": []
   },
   "outputs": [
    {
     "data": {
      "text/plain": [
       "<matplotlib.axes._subplots.AxesSubplot at 0x7f984ff26490>"
      ]
     },
     "execution_count": 51,
     "metadata": {},
     "output_type": "execute_result"
    },
    {
     "data": {
      "image/png": "[encoded data removed]",
      "text/plain": [
       "<Figure size 432x288 with 1 Axes>"
      ]
     },
     "metadata": {
      "needs_background": "light"
     },
     "output_type": "display_data"
    }
   ],
   "source": [
    "sns.barplot(x = 'quality', y='alcohol', data = Svm_data)"
   ]
  },
  {
   "cell_type": "code",
   "execution_count": 52,
   "metadata": {
    "execution": {
     "iopub.execute_input": "2023-01-22T08:02:53.023667Z",
     "iopub.status.busy": "2023-01-22T08:02:53.022977Z",
     "iopub.status.idle": "2023-01-22T08:02:53.353172Z",
     "shell.execute_reply": "2023-01-22T08:02:53.353756Z",
     "shell.execute_reply.started": "2022-02-24T06:52:47.275409Z"
    },
    "papermill": {
     "duration": 0.388915,
     "end_time": "2023-01-22T08:02:53.353943",
     "exception": false,
     "start_time": "2023-01-22T08:02:52.965028",
     "status": "completed"
    },
    "tags": []
   },
   "outputs": [
    {
     "data": {
      "text/plain": [
       "<matplotlib.axes._subplots.AxesSubplot at 0x7f984fbc7310>"
      ]
     },
     "execution_count": 52,
     "metadata": {},
     "output_type": "execute_result"
    },
    {
     "data": {
      "image/png": "[encoded data removed]",
      "text/plain": [
       "<Figure size 432x288 with 1 Axes>"
      ]
     },
     "metadata": {
      "needs_background": "light"
     },
     "output_type": "display_data"
    }
   ],
   "source": [
    "sns.barplot(x = 'quality', y='fixed acidity', data = Svm_data)"
   ]
  },
  {
   "cell_type": "code",
   "execution_count": 53,
   "metadata": {
    "execution": {
     "iopub.execute_input": "2023-01-22T08:02:53.471953Z",
     "iopub.status.busy": "2023-01-22T08:02:53.471183Z",
     "iopub.status.idle": "2023-01-22T08:02:53.765349Z",
     "shell.execute_reply": "2023-01-22T08:02:53.765947Z",
     "shell.execute_reply.started": "2022-02-24T06:52:47.662211Z"
    },
    "papermill": {
     "duration": 0.355804,
     "end_time": "2023-01-22T08:02:53.766114",
     "exception": false,
     "start_time": "2023-01-22T08:02:53.410310",
     "status": "completed"
    },
    "tags": []
   },
   "outputs": [
    {
     "data": {
      "text/plain": [
       "<matplotlib.axes._subplots.AxesSubplot at 0x7f984fb5b290>"
      ]
     },
     "execution_count": 53,
     "metadata": {},
     "output_type": "execute_result"
    },
    {
     "data": {
      "image/png": "[encoded data removed]",
      "text/plain": [
       "<Figure size 432x288 with 1 Axes>"
      ]
     },
     "metadata": {
      "needs_background": "light"
     },
     "output_type": "display_data"
    }
   ],
   "source": [
    "sns.barplot(x = 'quality', y='citric acid', data = Svm_data)"
   ]
  },
  {
   "cell_type": "code",
   "execution_count": 54,
   "metadata": {
    "execution": {
     "iopub.execute_input": "2023-01-22T08:02:53.914755Z",
     "iopub.status.busy": "2023-01-22T08:02:53.914054Z",
     "iopub.status.idle": "2023-01-22T08:02:54.248499Z",
     "shell.execute_reply": "2023-01-22T08:02:54.247620Z",
     "shell.execute_reply.started": "2022-02-24T06:52:48.017247Z"
    },
    "papermill": {
     "duration": 0.409685,
     "end_time": "2023-01-22T08:02:54.248667",
     "exception": false,
     "start_time": "2023-01-22T08:02:53.838982",
     "status": "completed"
    },
    "tags": []
   },
   "outputs": [
    {
     "data": {
      "text/plain": [
       "<matplotlib.axes._subplots.AxesSubplot at 0x7f984fa5f590>"
      ]
     },
     "execution_count": 54,
     "metadata": {},
     "output_type": "execute_result"
    },
    {
     "data": {
      "image/png": "[encoded data removed]",
      "text/plain": [
       "<Figure size 432x288 with 1 Axes>"
      ]
     },
     "metadata": {
      "needs_background": "light"
     },
     "output_type": "display_data"
    }
   ],
   "source": [
    "sns.barplot(x = 'quality', y='residual sugar', data = Svm_data)"
   ]
  },
  {
   "cell_type": "code",
   "execution_count": 55,
   "metadata": {
    "execution": {
     "iopub.execute_input": "2023-01-22T08:02:54.390401Z",
     "iopub.status.busy": "2023-01-22T08:02:54.389418Z",
     "iopub.status.idle": "2023-01-22T08:02:54.697031Z",
     "shell.execute_reply": "2023-01-22T08:02:54.696368Z",
     "shell.execute_reply.started": "2022-02-24T06:52:48.380767Z"
    },
    "papermill": {
     "duration": 0.384711,
     "end_time": "2023-01-22T08:02:54.697157",
     "exception": false,
     "start_time": "2023-01-22T08:02:54.312446",
     "status": "completed"
    },
    "tags": []
   },
   "outputs": [
    {
     "data": {
      "text/plain": [
       "<matplotlib.axes._subplots.AxesSubplot at 0x7f984f9f1450>"
      ]
     },
     "execution_count": 55,
     "metadata": {},
     "output_type": "execute_result"
    },
    {
     "data": {
      "image/png": "[encoded data removed]",
      "text/plain": [
       "<Figure size 432x288 with 1 Axes>"
      ]
     },
     "metadata": {
      "needs_background": "light"
     },
     "output_type": "display_data"
    }
   ],
   "source": [
    "sns.barplot(x = 'quality', y='chlorides', data = Svm_data)"
   ]
  },
  {
   "cell_type": "code",
   "execution_count": 56,
   "metadata": {
    "execution": {
     "iopub.execute_input": "2023-01-22T08:02:54.820193Z",
     "iopub.status.busy": "2023-01-22T08:02:54.819482Z",
     "iopub.status.idle": "2023-01-22T08:02:55.111305Z",
     "shell.execute_reply": "2023-01-22T08:02:55.111797Z",
     "shell.execute_reply.started": "2022-02-24T06:52:48.743675Z"
    },
    "papermill": {
     "duration": 0.356683,
     "end_time": "2023-01-22T08:02:55.111978",
     "exception": false,
     "start_time": "2023-01-22T08:02:54.755295",
     "status": "completed"
    },
    "tags": []
   },
   "outputs": [
    {
     "data": {
      "text/plain": [
       "<matplotlib.axes._subplots.AxesSubplot at 0x7f984f968f50>"
      ]
     },
     "execution_count": 56,
     "metadata": {},
     "output_type": "execute_result"
    },
    {
     "data": {
      "image/png": "[encoded data removed]",
      "text/plain": [
       "<Figure size 432x288 with 1 Axes>"
      ]
     },
     "metadata": {
      "needs_background": "light"
     },
     "output_type": "display_data"
    }
   ],
   "source": [
    "sns.barplot(x='quality', y='free sulfur dioxide', data=Svm_data)"
   ]
  },
  {
   "cell_type": "code",
   "execution_count": 57,
   "metadata": {
    "execution": {
     "iopub.execute_input": "2023-01-22T08:02:55.236838Z",
     "iopub.status.busy": "2023-01-22T08:02:55.236213Z",
     "iopub.status.idle": "2023-01-22T08:02:55.546373Z",
     "shell.execute_reply": "2023-01-22T08:02:55.545658Z",
     "shell.execute_reply.started": "2022-02-24T06:52:49.094756Z"
    },
    "papermill": {
     "duration": 0.375224,
     "end_time": "2023-01-22T08:02:55.546505",
     "exception": false,
     "start_time": "2023-01-22T08:02:55.171281",
     "status": "completed"
    },
    "tags": []
   },
   "outputs": [
    {
     "data": {
      "text/plain": [
       "<matplotlib.axes._subplots.AxesSubplot at 0x7f984f90cbd0>"
      ]
     },
     "execution_count": 57,
     "metadata": {},
     "output_type": "execute_result"
    },
    {
     "data": {
      "image/png": "[encoded data removed]",
      "text/plain": [
       "<Figure size 432x288 with 1 Axes>"
      ]
     },
     "metadata": {
      "needs_background": "light"
     },
     "output_type": "display_data"
    }
   ],
   "source": [
    "sns.barplot(x='quality', y='total sulfur dioxide', data=Svm_data)"
   ]
  },
  {
   "cell_type": "code",
   "execution_count": 58,
   "metadata": {
    "execution": {
     "iopub.execute_input": "2023-01-22T08:02:55.673345Z",
     "iopub.status.busy": "2023-01-22T08:02:55.672605Z",
     "iopub.status.idle": "2023-01-22T08:02:55.962379Z",
     "shell.execute_reply": "2023-01-22T08:02:55.962978Z",
     "shell.execute_reply.started": "2022-02-24T06:52:49.441749Z"
    },
    "papermill": {
     "duration": 0.356383,
     "end_time": "2023-01-22T08:02:55.963156",
     "exception": false,
     "start_time": "2023-01-22T08:02:55.606773",
     "status": "completed"
    },
    "tags": []
   },
   "outputs": [
    {
     "data": {
      "text/plain": [
       "<matplotlib.axes._subplots.AxesSubplot at 0x7f984f899a50>"
      ]
     },
     "execution_count": 58,
     "metadata": {},
     "output_type": "execute_result"
    },
    {
     "data": {
      "image/png": "[encoded data removed]",
      "text/plain": [
       "<Figure size 432x288 with 1 Axes>"
      ]
     },
     "metadata": {
      "needs_background": "light"
     },
     "output_type": "display_data"
    }
   ],
   "source": [
    "sns.barplot(x='quality', y='density', data=Svm_data)"
   ]
  },
  {
   "cell_type": "code",
   "execution_count": 59,
   "metadata": {
    "execution": {
     "iopub.execute_input": "2023-01-22T08:02:56.088449Z",
     "iopub.status.busy": "2023-01-22T08:02:56.087766Z",
     "iopub.status.idle": "2023-01-22T08:02:56.414846Z",
     "shell.execute_reply": "2023-01-22T08:02:56.415389Z",
     "shell.execute_reply.started": "2022-02-24T06:52:49.784583Z"
    },
    "papermill": {
     "duration": 0.390941,
     "end_time": "2023-01-22T08:02:56.415553",
     "exception": false,
     "start_time": "2023-01-22T08:02:56.024612",
     "status": "completed"
    },
    "tags": []
   },
   "outputs": [
    {
     "data": {
      "text/plain": [
       "<matplotlib.axes._subplots.AxesSubplot at 0x7f984f81be50>"
      ]
     },
     "execution_count": 59,
     "metadata": {},
     "output_type": "execute_result"
    },
    {
     "data": {
      "image/png": "[encoded data removed]",
      "text/plain": [
       "<Figure size 432x288 with 1 Axes>"
      ]
     },
     "metadata": {
      "needs_background": "light"
     },
     "output_type": "display_data"
    }
   ],
   "source": [
    "sns.barplot(x='quality', y='pH', data=Svm_data)"
   ]
  },
  {
   "cell_type": "code",
   "execution_count": 60,
   "metadata": {
    "execution": {
     "iopub.execute_input": "2023-01-22T08:02:56.547975Z",
     "iopub.status.busy": "2023-01-22T08:02:56.547278Z",
     "iopub.status.idle": "2023-01-22T08:02:56.866723Z",
     "shell.execute_reply": "2023-01-22T08:02:56.866054Z",
     "shell.execute_reply.started": "2022-02-24T06:52:50.141197Z"
    },
    "papermill": {
     "duration": 0.387266,
     "end_time": "2023-01-22T08:02:56.866871",
     "exception": false,
     "start_time": "2023-01-22T08:02:56.479605",
     "status": "completed"
    },
    "tags": []
   },
   "outputs": [
    {
     "data": {
      "text/plain": [
       "<matplotlib.axes._subplots.AxesSubplot at 0x7f984f72ead0>"
      ]
     },
     "execution_count": 60,
     "metadata": {},
     "output_type": "execute_result"
    },
    {
     "data": {
      "image/png": "[encoded data removed]",
      "text/plain": [
       "<Figure size 432x288 with 1 Axes>"
      ]
     },
     "metadata": {
      "needs_background": "light"
     },
     "output_type": "display_data"
    }
   ],
   "source": [
    "sns.barplot(x='quality', y='sulphates', data=Svm_data)"
   ]
  },
  {
   "cell_type": "code",
   "execution_count": 61,
   "metadata": {
    "execution": {
     "iopub.execute_input": "2023-01-22T08:02:57.014261Z",
     "iopub.status.busy": "2023-01-22T08:02:57.013511Z",
     "iopub.status.idle": "2023-01-22T08:02:57.016519Z",
     "shell.execute_reply": "2023-01-22T08:02:57.017200Z",
     "shell.execute_reply.started": "2022-02-24T06:52:50.521174Z"
    },
    "papermill": {
     "duration": 0.084466,
     "end_time": "2023-01-22T08:02:57.017366",
     "exception": false,
     "start_time": "2023-01-22T08:02:56.932900",
     "status": "completed"
    },
    "tags": []
   },
   "outputs": [
    {
     "data": {
      "text/plain": [
       "2    681\n",
       "3    638\n",
       "4    199\n",
       "1     53\n",
       "5     18\n",
       "0     10\n",
       "Name: quality, dtype: int64"
      ]
     },
     "execution_count": 61,
     "metadata": {},
     "output_type": "execute_result"
    }
   ],
   "source": [
    "Svm_data['quality'].value_counts()"
   ]
  },
  {
   "cell_type": "code",
   "execution_count": 62,
   "metadata": {
    "execution": {
     "iopub.execute_input": "2023-01-22T08:02:57.148807Z",
     "iopub.status.busy": "2023-01-22T08:02:57.148115Z",
     "iopub.status.idle": "2023-01-22T08:02:57.154831Z",
     "shell.execute_reply": "2023-01-22T08:02:57.154201Z",
     "shell.execute_reply.started": "2022-02-24T06:52:50.532695Z"
    },
    "papermill": {
     "duration": 0.074373,
     "end_time": "2023-01-22T08:02:57.154985",
     "exception": false,
     "start_time": "2023-01-22T08:02:57.080612",
     "status": "completed"
    },
    "tags": []
   },
   "outputs": [
    {
     "data": {
      "text/plain": [
       "2    681\n",
       "3    638\n",
       "4    199\n",
       "1     53\n",
       "5     18\n",
       "0     10\n",
       "Name: quality, dtype: int64"
      ]
     },
     "execution_count": 62,
     "metadata": {},
     "output_type": "execute_result"
    }
   ],
   "source": [
    "Svm_data['quality'].value_counts()"
   ]
  },
  {
   "cell_type": "code",
   "execution_count": 63,
   "metadata": {
    "execution": {
     "iopub.execute_input": "2023-01-22T08:02:57.291709Z",
     "iopub.status.busy": "2023-01-22T08:02:57.290830Z",
     "iopub.status.idle": "2023-01-22T08:02:57.295281Z",
     "shell.execute_reply": "2023-01-22T08:02:57.294658Z",
     "shell.execute_reply.started": "2022-02-24T06:52:50.547762Z"
    },
    "papermill": {
     "duration": 0.074532,
     "end_time": "2023-01-22T08:02:57.295413",
     "exception": false,
     "start_time": "2023-01-22T08:02:57.220881",
     "status": "completed"
    },
    "tags": []
   },
   "outputs": [],
   "source": [
    "#navi_base\n"
   ]
  },
  {
   "cell_type": "code",
   "execution_count": 64,
   "metadata": {
    "execution": {
     "iopub.execute_input": "2023-01-22T08:02:57.427812Z",
     "iopub.status.busy": "2023-01-22T08:02:57.426780Z",
     "iopub.status.idle": "2023-01-22T08:02:57.432748Z",
     "shell.execute_reply": "2023-01-22T08:02:57.432149Z",
     "shell.execute_reply.started": "2022-02-24T06:52:50.558452Z"
    },
    "papermill": {
     "duration": 0.074286,
     "end_time": "2023-01-22T08:02:57.432874",
     "exception": false,
     "start_time": "2023-01-22T08:02:57.358588",
     "status": "completed"
    },
    "tags": []
   },
   "outputs": [],
   "source": [
    "import numpy as np\n",
    "import pandas as pd\n",
    "import matplotlib.pyplot as plt\n",
    "import seaborn as sns"
   ]
  },
  {
   "cell_type": "code",
   "execution_count": 65,
   "metadata": {
    "execution": {
     "iopub.execute_input": "2023-01-22T08:02:57.578708Z",
     "iopub.status.busy": "2023-01-22T08:02:57.577642Z",
     "iopub.status.idle": "2023-01-22T08:02:57.588704Z",
     "shell.execute_reply": "2023-01-22T08:02:57.588117Z",
     "shell.execute_reply.started": "2022-02-24T06:52:50.570005Z"
    },
    "papermill": {
     "duration": 0.090056,
     "end_time": "2023-01-22T08:02:57.588853",
     "exception": false,
     "start_time": "2023-01-22T08:02:57.498797",
     "status": "completed"
    },
    "tags": []
   },
   "outputs": [],
   "source": [
    "NB_data = pd.read_csv(\"../input/red-wine-quality-cortez-et-al-2009/winequality-red.csv\")\n",
    "quality_mapping ={\n",
    "    3:0,\n",
    "    4:1,\n",
    "    5:2,\n",
    "    6:3,\n",
    "    7:4,\n",
    "    8:5,\n",
    "}\n",
    "NB_data.loc[:,\"quality\"]=NB_data.quality.map(quality_mapping)\n"
   ]
  },
  {
   "cell_type": "code",
   "execution_count": 66,
   "metadata": {
    "execution": {
     "iopub.execute_input": "2023-01-22T08:02:57.724770Z",
     "iopub.status.busy": "2023-01-22T08:02:57.722739Z",
     "iopub.status.idle": "2023-01-22T08:02:57.728314Z",
     "shell.execute_reply": "2023-01-22T08:02:57.727760Z",
     "shell.execute_reply.started": "2022-02-24T06:52:50.591944Z"
    },
    "papermill": {
     "duration": 0.073924,
     "end_time": "2023-01-22T08:02:57.728456",
     "exception": false,
     "start_time": "2023-01-22T08:02:57.654532",
     "status": "completed"
    },
    "tags": []
   },
   "outputs": [],
   "source": [
    "from sklearn.model_selection import train_test_split"
   ]
  },
  {
   "cell_type": "code",
   "execution_count": 67,
   "metadata": {
    "execution": {
     "iopub.execute_input": "2023-01-22T08:02:57.869070Z",
     "iopub.status.busy": "2023-01-22T08:02:57.868299Z",
     "iopub.status.idle": "2023-01-22T08:02:57.873040Z",
     "shell.execute_reply": "2023-01-22T08:02:57.872446Z",
     "shell.execute_reply.started": "2022-02-24T06:52:50.598842Z"
    },
    "papermill": {
     "duration": 0.076941,
     "end_time": "2023-01-22T08:02:57.873172",
     "exception": false,
     "start_time": "2023-01-22T08:02:57.796231",
     "status": "completed"
    },
    "tags": []
   },
   "outputs": [],
   "source": [
    "x_train,x_test,y_train,y_test = train_test_split(x,y, test_size=0.3, random_state=0)"
   ]
  },
  {
   "cell_type": "code",
   "execution_count": null,
   "metadata": {
    "papermill": {
     "duration": 0.067411,
     "end_time": "2023-01-22T08:02:58.011241",
     "exception": false,
     "start_time": "2023-01-22T08:02:57.943830",
     "status": "completed"
    },
    "tags": []
   },
   "outputs": [],
   "source": []
  },
  {
   "cell_type": "code",
   "execution_count": null,
   "metadata": {
    "papermill": {
     "duration": 0.067198,
     "end_time": "2023-01-22T08:02:58.147809",
     "exception": false,
     "start_time": "2023-01-22T08:02:58.080611",
     "status": "completed"
    },
    "tags": []
   },
   "outputs": [],
   "source": []
  },
  {
   "cell_type": "code",
   "execution_count": null,
   "metadata": {
    "papermill": {
     "duration": 0.066804,
     "end_time": "2023-01-22T08:02:58.283095",
     "exception": false,
     "start_time": "2023-01-22T08:02:58.216291",
     "status": "completed"
    },
    "tags": []
   },
   "outputs": [],
   "source": []
  },
  {
   "cell_type": "code",
   "execution_count": null,
   "metadata": {
    "papermill": {
     "duration": 0.064663,
     "end_time": "2023-01-22T08:02:58.416134",
     "exception": false,
     "start_time": "2023-01-22T08:02:58.351471",
     "status": "completed"
    },
    "tags": []
   },
   "outputs": [],
   "source": []
  }
 ],
 "metadata": {
  "kernelspec": {
   "display_name": "Python 3",
   "language": "python",
   "name": "python3"
  },
  "language_info": {
   "codemirror_mode": {
    "name": "ipython",
    "version": 3
   },
   "file_extension": ".py",
   "mimetype": "text/x-python",
   "name": "python",
   "nbconvert_exporter": "python",
   "pygments_lexer": "ipython3",
   "version": "3.7.6"
  },
  "papermill": {
   "duration": 23.217208,
   "end_time": "2023-01-22T08:02:58.591327",
   "environment_variables": {},
   "exception": null,
   "input_path": "__notebook__.ipynb",
   "output_path": "__notebook__.ipynb",
   "parameters": {},
   "start_time": "2023-01-22T08:02:35.374119",
   "version": "2.1.0"
  }
 },
 "nbformat": 4,
 "nbformat_minor": 4
}
